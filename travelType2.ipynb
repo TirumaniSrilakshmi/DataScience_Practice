{
 "cells": [
  {
   "cell_type": "code",
   "execution_count": 1,
   "id": "b05a1b42-1ac8-4147-80c7-6597326b8bbc",
   "metadata": {},
   "outputs": [],
   "source": [
    "import pandas as pd\n",
    "import time\n",
    "import random\n",
    "from sklearn import metrics\n",
    "from sklearn.preprocessing import StandardScaler\n",
    "from sklearn.model_selection import KFold, cross_val_score\n",
    "from sklearn.model_selection import train_test_split, GridSearchCV\n",
    "import numpy as np\n",
    "import matplotlib.pyplot as plt\n",
    "import seaborn as sns\n",
    "from sklearn.metrics import confusion_matrix\n",
    "from sklearn.metrics import accuracy_score\n",
    "from sklearn.metrics import roc_curve, auc\n",
    "from sklearn.metrics import classification_report,recall_score,precision_score,roc_auc_score\n",
    "from sklearn.linear_model import LogisticRegression #LogisticRegression\n",
    "from sklearn.tree import DecisionTreeClassifier #DecisionTreeRegresor\n",
    "from sklearn.ensemble import RandomForestClassifier  # RandomForestRegressor\n",
    "from sklearn.ensemble import AdaBoostClassifier #Adaptive Boost\n",
    "from sklearn.neighbors import KNeighborsClassifier #KNN\n",
    "from sklearn.ensemble import GradientBoostingClassifier #Gradient Boost \n",
    "from sklearn.svm import SVC #SVC\n",
    "from sklearn.naive_bayes import GaussianNB #NaiveBayes\n",
    "from IPython.display import Image  \n",
    "from sklearn.tree import export_graphviz\n",
    "from io import StringIO\n",
    "import warnings\n",
    "warnings.filterwarnings('ignore')"
   ]
  },
  {
   "cell_type": "code",
   "execution_count": 2,
   "id": "6b5cd987-02d9-49c4-b5ad-5cd7247706b4",
   "metadata": {},
   "outputs": [],
   "source": [
    "data = pd.read_csv(r\"C:\\Users\\kisho\\DataScience\\Machine Learning\\Practice\\cat2.csv\")"
   ]
  },
  {
   "cell_type": "code",
   "execution_count": 3,
   "id": "491d8fc6-e116-46ee-8335-c6cfb426cf9c",
   "metadata": {},
   "outputs": [
    {
     "data": {
      "text/html": [
       "<div>\n",
       "<style scoped>\n",
       "    .dataframe tbody tr th:only-of-type {\n",
       "        vertical-align: middle;\n",
       "    }\n",
       "\n",
       "    .dataframe tbody tr th {\n",
       "        vertical-align: top;\n",
       "    }\n",
       "\n",
       "    .dataframe thead th {\n",
       "        text-align: right;\n",
       "    }\n",
       "</style>\n",
       "<table border=\"1\" class=\"dataframe\">\n",
       "  <thead>\n",
       "    <tr style=\"text-align: right;\">\n",
       "      <th></th>\n",
       "      <th>Unnamed: 0</th>\n",
       "      <th>online_booking</th>\n",
       "      <th>mobile_site_booking</th>\n",
       "      <th>Car_Cancellation</th>\n",
       "      <th>from_month</th>\n",
       "      <th>from_datee</th>\n",
       "      <th>weekend</th>\n",
       "      <th>timeOfDay</th>\n",
       "      <th>timeDifference</th>\n",
       "      <th>distance</th>\n",
       "      <th>from_cancel_zone</th>\n",
       "      <th>to_cancel_zone</th>\n",
       "    </tr>\n",
       "  </thead>\n",
       "  <tbody>\n",
       "    <tr>\n",
       "      <th>0</th>\n",
       "      <td>0</td>\n",
       "      <td>0</td>\n",
       "      <td>0</td>\n",
       "      <td>0</td>\n",
       "      <td>1</td>\n",
       "      <td>1</td>\n",
       "      <td>0</td>\n",
       "      <td>6</td>\n",
       "      <td>1</td>\n",
       "      <td>8016</td>\n",
       "      <td>1</td>\n",
       "      <td>1</td>\n",
       "    </tr>\n",
       "    <tr>\n",
       "      <th>1</th>\n",
       "      <td>1</td>\n",
       "      <td>0</td>\n",
       "      <td>0</td>\n",
       "      <td>0</td>\n",
       "      <td>1</td>\n",
       "      <td>1</td>\n",
       "      <td>0</td>\n",
       "      <td>2</td>\n",
       "      <td>7</td>\n",
       "      <td>8015</td>\n",
       "      <td>1</td>\n",
       "      <td>1</td>\n",
       "    </tr>\n",
       "    <tr>\n",
       "      <th>2</th>\n",
       "      <td>2</td>\n",
       "      <td>0</td>\n",
       "      <td>0</td>\n",
       "      <td>0</td>\n",
       "      <td>1</td>\n",
       "      <td>1</td>\n",
       "      <td>0</td>\n",
       "      <td>6</td>\n",
       "      <td>0</td>\n",
       "      <td>8009</td>\n",
       "      <td>1</td>\n",
       "      <td>1</td>\n",
       "    </tr>\n",
       "    <tr>\n",
       "      <th>3</th>\n",
       "      <td>3</td>\n",
       "      <td>0</td>\n",
       "      <td>0</td>\n",
       "      <td>0</td>\n",
       "      <td>1</td>\n",
       "      <td>1</td>\n",
       "      <td>0</td>\n",
       "      <td>1</td>\n",
       "      <td>1</td>\n",
       "      <td>8003</td>\n",
       "      <td>1</td>\n",
       "      <td>0</td>\n",
       "    </tr>\n",
       "    <tr>\n",
       "      <th>4</th>\n",
       "      <td>4</td>\n",
       "      <td>0</td>\n",
       "      <td>0</td>\n",
       "      <td>0</td>\n",
       "      <td>1</td>\n",
       "      <td>1</td>\n",
       "      <td>0</td>\n",
       "      <td>2</td>\n",
       "      <td>2</td>\n",
       "      <td>8024</td>\n",
       "      <td>1</td>\n",
       "      <td>1</td>\n",
       "    </tr>\n",
       "  </tbody>\n",
       "</table>\n",
       "</div>"
      ],
      "text/plain": [
       "   Unnamed: 0  online_booking  mobile_site_booking  Car_Cancellation  \\\n",
       "0           0               0                    0                 0   \n",
       "1           1               0                    0                 0   \n",
       "2           2               0                    0                 0   \n",
       "3           3               0                    0                 0   \n",
       "4           4               0                    0                 0   \n",
       "\n",
       "   from_month  from_datee  weekend  timeOfDay  timeDifference  distance  \\\n",
       "0           1           1        0          6               1      8016   \n",
       "1           1           1        0          2               7      8015   \n",
       "2           1           1        0          6               0      8009   \n",
       "3           1           1        0          1               1      8003   \n",
       "4           1           1        0          2               2      8024   \n",
       "\n",
       "   from_cancel_zone  to_cancel_zone  \n",
       "0                 1               1  \n",
       "1                 1               1  \n",
       "2                 1               1  \n",
       "3                 1               0  \n",
       "4                 1               1  "
      ]
     },
     "execution_count": 3,
     "metadata": {},
     "output_type": "execute_result"
    }
   ],
   "source": [
    "data.head()"
   ]
  },
  {
   "cell_type": "code",
   "execution_count": 4,
   "id": "e46b68c5-820a-425d-9a94-118df97a34a9",
   "metadata": {},
   "outputs": [
    {
     "data": {
      "text/html": [
       "<div>\n",
       "<style scoped>\n",
       "    .dataframe tbody tr th:only-of-type {\n",
       "        vertical-align: middle;\n",
       "    }\n",
       "\n",
       "    .dataframe tbody tr th {\n",
       "        vertical-align: top;\n",
       "    }\n",
       "\n",
       "    .dataframe thead th {\n",
       "        text-align: right;\n",
       "    }\n",
       "</style>\n",
       "<table border=\"1\" class=\"dataframe\">\n",
       "  <thead>\n",
       "    <tr style=\"text-align: right;\">\n",
       "      <th></th>\n",
       "      <th>online_booking</th>\n",
       "      <th>mobile_site_booking</th>\n",
       "      <th>Car_Cancellation</th>\n",
       "      <th>from_month</th>\n",
       "      <th>from_datee</th>\n",
       "      <th>weekend</th>\n",
       "      <th>timeOfDay</th>\n",
       "      <th>timeDifference</th>\n",
       "      <th>distance</th>\n",
       "      <th>from_cancel_zone</th>\n",
       "      <th>to_cancel_zone</th>\n",
       "    </tr>\n",
       "  </thead>\n",
       "  <tbody>\n",
       "    <tr>\n",
       "      <th>0</th>\n",
       "      <td>0</td>\n",
       "      <td>0</td>\n",
       "      <td>0</td>\n",
       "      <td>1</td>\n",
       "      <td>1</td>\n",
       "      <td>0</td>\n",
       "      <td>6</td>\n",
       "      <td>1</td>\n",
       "      <td>8016</td>\n",
       "      <td>1</td>\n",
       "      <td>1</td>\n",
       "    </tr>\n",
       "    <tr>\n",
       "      <th>1</th>\n",
       "      <td>0</td>\n",
       "      <td>0</td>\n",
       "      <td>0</td>\n",
       "      <td>1</td>\n",
       "      <td>1</td>\n",
       "      <td>0</td>\n",
       "      <td>2</td>\n",
       "      <td>7</td>\n",
       "      <td>8015</td>\n",
       "      <td>1</td>\n",
       "      <td>1</td>\n",
       "    </tr>\n",
       "    <tr>\n",
       "      <th>2</th>\n",
       "      <td>0</td>\n",
       "      <td>0</td>\n",
       "      <td>0</td>\n",
       "      <td>1</td>\n",
       "      <td>1</td>\n",
       "      <td>0</td>\n",
       "      <td>6</td>\n",
       "      <td>0</td>\n",
       "      <td>8009</td>\n",
       "      <td>1</td>\n",
       "      <td>1</td>\n",
       "    </tr>\n",
       "  </tbody>\n",
       "</table>\n",
       "</div>"
      ],
      "text/plain": [
       "   online_booking  mobile_site_booking  Car_Cancellation  from_month  \\\n",
       "0               0                    0                 0           1   \n",
       "1               0                    0                 0           1   \n",
       "2               0                    0                 0           1   \n",
       "\n",
       "   from_datee  weekend  timeOfDay  timeDifference  distance  from_cancel_zone  \\\n",
       "0           1        0          6               1      8016                 1   \n",
       "1           1        0          2               7      8015                 1   \n",
       "2           1        0          6               0      8009                 1   \n",
       "\n",
       "   to_cancel_zone  \n",
       "0               1  \n",
       "1               1  \n",
       "2               1  "
      ]
     },
     "execution_count": 4,
     "metadata": {},
     "output_type": "execute_result"
    }
   ],
   "source": [
    "data = data.drop('Unnamed: 0',axis=1)\n",
    "data.head(3)"
   ]
  },
  {
   "cell_type": "code",
   "execution_count": 5,
   "id": "b7167810-21a1-49d4-ae33-57c3ef75d5fd",
   "metadata": {},
   "outputs": [
    {
     "data": {
      "text/plain": [
       "(34292, 11)"
      ]
     },
     "execution_count": 5,
     "metadata": {},
     "output_type": "execute_result"
    }
   ],
   "source": [
    "data.shape"
   ]
  },
  {
   "cell_type": "code",
   "execution_count": 6,
   "id": "79ceb862-bbef-41af-912b-1a45db8951b7",
   "metadata": {},
   "outputs": [
    {
     "data": {
      "text/plain": [
       "Index(['online_booking', 'mobile_site_booking', 'Car_Cancellation',\n",
       "       'from_month', 'from_datee', 'weekend', 'timeOfDay', 'timeDifference',\n",
       "       'distance', 'from_cancel_zone', 'to_cancel_zone'],\n",
       "      dtype='object')"
      ]
     },
     "execution_count": 6,
     "metadata": {},
     "output_type": "execute_result"
    }
   ],
   "source": [
    "data.columns"
   ]
  },
  {
   "cell_type": "code",
   "execution_count": 7,
   "id": "2387bc84-d5eb-4fad-bc61-8c9a4160a251",
   "metadata": {},
   "outputs": [],
   "source": [
    "names =['online_booking', 'mobile_site_booking', 'Car_Cancellation',\n",
    "       'from_month', 'from_datee', 'weekend', 'timeOfDay', 'timeDifference',\n",
    "       'distance', 'from_cancel_zone', 'to_cancel_zone'],\n",
    "\n",
    "dx = ['Cancel', 'notCancel']"
   ]
  },
  {
   "cell_type": "code",
   "execution_count": 8,
   "id": "88f7f894-cb70-4783-8a29-2062e86e008d",
   "metadata": {},
   "outputs": [
    {
     "data": {
      "text/plain": [
       "array([[   0,    0,    1, ..., 8016,    1,    1],\n",
       "       [   0,    0,    1, ..., 8015,    1,    1],\n",
       "       [   0,    0,    1, ..., 8009,    1,    1],\n",
       "       ...,\n",
       "       [   1,    0,   11, ..., 7986,    1,    1],\n",
       "       [   0,    0,   11, ..., 8008,    1,    1],\n",
       "       [   0,    1,   11, ..., 8005,    1,    1]], dtype=int64)"
      ]
     },
     "execution_count": 8,
     "metadata": {},
     "output_type": "execute_result"
    }
   ],
   "source": [
    "X = data.loc[:,data.columns!='Car_Cancellation'].values\n",
    "X"
   ]
  },
  {
   "cell_type": "code",
   "execution_count": 9,
   "id": "677c3141-8695-451c-9929-672ec9cd0701",
   "metadata": {},
   "outputs": [
    {
     "data": {
      "text/plain": [
       "array([0, 0, 0, ..., 0, 0, 0], dtype=int64)"
      ]
     },
     "execution_count": 9,
     "metadata": {},
     "output_type": "execute_result"
    }
   ],
   "source": [
    "y = data.Car_Cancellation.values\n",
    "y"
   ]
  },
  {
   "cell_type": "code",
   "execution_count": 10,
   "id": "23a40595-44ca-4ed3-8307-b525d0ba3a41",
   "metadata": {},
   "outputs": [
    {
     "name": "stdout",
     "output_type": "stream",
     "text": [
      "Shape of features set X:  (34292, 10)\n",
      "Shape of target Y:  (34292,)\n"
     ]
    }
   ],
   "source": [
    "print(\"Shape of features set X: \",X.shape)\n",
    "print(\"Shape of target Y: \",y.shape)"
   ]
  },
  {
   "cell_type": "code",
   "execution_count": 11,
   "id": "a3f24df5-946a-4cca-8109-80580c284a40",
   "metadata": {},
   "outputs": [],
   "source": [
    "x_train,x_test,y_train,y_test = train_test_split(X,y,test_size=0.3,random_state=42)"
   ]
  },
  {
   "cell_type": "code",
   "execution_count": 12,
   "id": "cea20986-489b-4016-a103-19674effb4b1",
   "metadata": {},
   "outputs": [
    {
     "name": "stdout",
     "output_type": "stream",
     "text": [
      "Data of training features:  (24004, 10)\n",
      "Data of testing features:  (10288, 10)\n",
      "\n",
      "\n",
      "Data of training target:  (24004,)\n",
      "Data of testing target:  (10288,)\n"
     ]
    }
   ],
   "source": [
    "print(\"Data of training features: \",x_train.shape)\n",
    "print(\"Data of testing features: \",x_test.shape)\n",
    "print(\"\\n\")\n",
    "print(\"Data of training target: \",y_train.shape)\n",
    "print(\"Data of testing target: \",y_test.shape)"
   ]
  },
  {
   "cell_type": "code",
   "execution_count": 13,
   "id": "728dec7f-16e6-4b1f-a7c0-fe9be0f8ef60",
   "metadata": {},
   "outputs": [
    {
     "data": {
      "text/plain": [
       "array([[ 1.31915983e+00, -2.26462845e-01, -8.34554842e-01, ...,\n",
       "         5.60764328e-04,  1.56401644e-01,  1.17275296e-01],\n",
       "       [-7.58058258e-01, -2.26462845e-01,  1.84158303e-01, ...,\n",
       "         9.77538848e-01,  1.56401644e-01,  1.17275296e-01],\n",
       "       [-7.58058258e-01, -2.26462845e-01, -8.34554842e-01, ...,\n",
       "         8.68985728e-01,  1.56401644e-01,  1.17275296e-01],\n",
       "       ...,\n",
       "       [-7.58058258e-01, -2.26462845e-01, -4.94983794e-01, ...,\n",
       "         4.34773246e-01,  1.56401644e-01,  1.17275296e-01],\n",
       "       [ 1.31915983e+00, -2.26462845e-01, -1.85326799e+00, ...,\n",
       "        -3.25098597e-01, -3.80379358e+00,  1.17275296e-01],\n",
       "       [-7.58058258e-01, -2.26462845e-01,  1.84158303e-01, ...,\n",
       "         8.68985728e-01,  1.56401644e-01,  1.17275296e-01]])"
      ]
     },
     "execution_count": 13,
     "metadata": {},
     "output_type": "execute_result"
    }
   ],
   "source": [
    "std_scaler = StandardScaler()\n",
    "x_train = std_scaler.fit_transform(x_train)\n",
    "x_test = std_scaler.fit_transform(x_test)\n",
    "x_train"
   ]
  },
  {
   "cell_type": "code",
   "execution_count": null,
   "id": "29e2f190-221e-4d4f-8776-d79762c73f39",
   "metadata": {},
   "outputs": [],
   "source": []
  }
 ],
 "metadata": {
  "kernelspec": {
   "display_name": "Python 3 (ipykernel)",
   "language": "python",
   "name": "python3"
  },
  "language_info": {
   "codemirror_mode": {
    "name": "ipython",
    "version": 3
   },
   "file_extension": ".py",
   "mimetype": "text/x-python",
   "name": "python",
   "nbconvert_exporter": "python",
   "pygments_lexer": "ipython3",
   "version": "3.11.7"
  }
 },
 "nbformat": 4,
 "nbformat_minor": 5
}
